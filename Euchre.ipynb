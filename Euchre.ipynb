{
 "cells": [
  {
   "cell_type": "code",
   "execution_count": 1,
   "id": "6fa21a80-3a5b-4071-85d8-3a5129428d78",
   "metadata": {},
   "outputs": [],
   "source": [
    "import numpy as np\n",
    "#test addition"
   ]
  },
  {
   "cell_type": "code",
   "execution_count": 2,
   "id": "a2755854-8bc2-4893-87e3-8e5766179035",
   "metadata": {},
   "outputs": [],
   "source": [
    "class Card:\n",
    "    def __init__(self, num, suit):\n",
    "        self.num = num\n",
    "        self.suit = suit\n",
    "        cardname = self.num\n",
    "        if self.num == 1:\n",
    "            cardname = \"Ace\"\n",
    "        elif self.num>10:\n",
    "            if self.num == 11:\n",
    "                cardname = \"Jack\"\n",
    "            elif self.num == 12:\n",
    "                cardname = \"Queen\"\n",
    "            elif self.num == 13:\n",
    "                cardname = \"King\"\n",
    "            elif self.num == 14:\n",
    "                cardname = \"Ace\"\n",
    "            else:\n",
    "                cardname = \"Joker\"\n",
    "        self.cardname = str(cardname)\n",
    "    \n",
    "    def __str__(self):\n",
    "        if self.cardname!=\"10\":\n",
    "            return str(self.cardname[0])+str(self.suit[0])\n",
    "        return \"10\"+str(self.suit[0])\n",
    "    \n",
    "class Deck:\n",
    "    def __init__(self, game):\n",
    "        suits = [\"Diamond\", \"Heart\", \"Club\", \"Spade\"]\n",
    "        self.cards = []\n",
    "        if game == \"Euchre\":\n",
    "            for suit in suits:\n",
    "                for num in range(6):\n",
    "                    card = Card(num+9, suit)\n",
    "                    self.cards.append(card)\n",
    "    \n",
    "    def shuffle(self):\n",
    "        np.random.shuffle(self.cards)\n",
    "    \n",
    "    def draw(self):\n",
    "        return self.cards.pop()\n",
    "            \n",
    "class Player:\n",
    "    def __init__(self, name=\"default\"):\n",
    "        self.CardsInHand = 0\n",
    "        self.name = name\n",
    "    \n",
    "class Team:\n",
    "    def __init__(self, players):\n",
    "        self.players = players\n",
    "    "
   ]
  },
  {
   "cell_type": "code",
   "execution_count": 3,
   "id": "6652b6df-be74-439e-8836-91542d3cadcd",
   "metadata": {},
   "outputs": [],
   "source": [
    "def begin():\n",
    "    deck = Deck(\"Euchre\")\n",
    "    deck.shuffle()\n",
    "    return deck"
   ]
  },
  {
   "cell_type": "code",
   "execution_count": 4,
   "id": "0c1f1e88-26cc-4fdc-ba75-1ba9103f6fb6",
   "metadata": {},
   "outputs": [],
   "source": [
    "deck = begin()"
   ]
  },
  {
   "cell_type": "code",
   "execution_count": 5,
   "id": "f979d157-f4b1-48dd-a86d-bc4eb017f388",
   "metadata": {},
   "outputs": [
    {
     "name": "stdout",
     "output_type": "stream",
     "text": [
      "KS\n",
      "10C\n",
      "KC\n",
      "QC\n",
      "JC\n",
      "9H\n",
      "AS\n",
      "9D\n",
      "9S\n",
      "10H\n",
      "QS\n",
      "AC\n",
      "JS\n",
      "10D\n",
      "QH\n",
      "JH\n",
      "KH\n",
      "AH\n",
      "JD\n",
      "AD\n",
      "10S\n",
      "KD\n",
      "QD\n",
      "9C\n"
     ]
    }
   ],
   "source": [
    "for card in deck.cards:\n",
    "    print(card)\n",
    "    "
   ]
  },
  {
   "cell_type": "code",
   "execution_count": null,
   "id": "8834c2bf-49fa-4968-8f36-fb6ffc30a466",
   "metadata": {},
   "outputs": [],
   "source": []
  }
 ],
 "metadata": {
  "kernelspec": {
   "display_name": "base",
   "language": "python",
   "name": "python3"
  },
  "language_info": {
   "codemirror_mode": {
    "name": "ipython",
    "version": 3
   },
   "file_extension": ".py",
   "mimetype": "text/x-python",
   "name": "python",
   "nbconvert_exporter": "python",
   "pygments_lexer": "ipython3",
   "version": "3.9.13"
  },
  "vscode": {
   "interpreter": {
    "hash": "9d8a2aa56706f0475aa983bd88b54765f20e6e6d70a842875d22122789babd85"
   }
  }
 },
 "nbformat": 4,
 "nbformat_minor": 5
}
