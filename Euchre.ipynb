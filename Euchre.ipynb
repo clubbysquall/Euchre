{
 "cells": [
  {
   "cell_type": "code",
   "execution_count": 80,
   "id": "6fa21a80-3a5b-4071-85d8-3a5129428d78",
   "metadata": {},
   "outputs": [],
   "source": [
    "import numpy as np\n",
    "from numpy import random"
   ]
  },
  {
   "cell_type": "code",
   "execution_count": 81,
   "id": "a2755854-8bc2-4893-87e3-8e5766179035",
   "metadata": {},
   "outputs": [],
   "source": [
    "class Card:\n",
    "    def __init__(self, num, suit):\n",
    "        self.num = num\n",
    "        self.suit = suit\n",
    "        cardname = self.num\n",
    "        if self.num == 1:\n",
    "            cardname = \"Ace\"\n",
    "        elif self.num>10:\n",
    "            if self.num == 11:\n",
    "                cardname = \"Jack\"\n",
    "            elif self.num == 12:\n",
    "                cardname = \"Queen\"\n",
    "            elif self.num == 13:\n",
    "                cardname = \"King\"\n",
    "            elif self.num == 14:\n",
    "                cardname = \"Ace\"\n",
    "            else:\n",
    "                cardname = \"Joker\"\n",
    "        self.cardname = str(cardname)\n",
    "    \n",
    "    def __str__(self):\n",
    "        if self.cardname!=\"10\":\n",
    "            return str(self.cardname[0])+str(self.suit[0])\n",
    "        return \"10\"+str(self.suit[0])\n",
    "    \n",
    "    def __repr__(self):\n",
    "        if self.cardname!=\"10\":\n",
    "            return str(self.cardname[0])+str(self.suit[0])\n",
    "        return \"10\"+str(self.suit[0])\n",
    "    \n",
    "class Deck:\n",
    "    def __init__(self, game):\n",
    "        suits = [\"Diamond\", \"Heart\", \"Club\", \"Spade\"]\n",
    "        self.cards = []\n",
    "        if game == \"Euchre\":\n",
    "            for suit in suits:\n",
    "                for num in range(6):\n",
    "                    card = Card(num+9, suit)\n",
    "                    self.cards.append(card)\n",
    "    \n",
    "    def shuffle(self):\n",
    "        random.shuffle(self.cards)\n",
    "    \n",
    "    def draw(self):\n",
    "        if len(self.cards)>0:\n",
    "            return self.cards.pop()\n",
    "        return\n",
    "    \n",
    "            \n",
    "class Player:\n",
    "    def __init__(self, teamid=\"None\", name=\"default\"):\n",
    "        self.cards = []\n",
    "        self.name = name\n",
    "        self.team = teamid\n",
    "    \n",
    "    def deal(self, deck, numcards=1):\n",
    "        for i in range(numcards):\n",
    "            self.cards.append(deck.draw())\n",
    "\n",
    "    def setTeam(self, teamid):\n",
    "        self.team = teamid\n",
    "\n",
    "    \n",
    "class Team:\n",
    "    def __init__(self, id):\n",
    "        self.points = 0\n",
    "        self.id = id\n",
    "\n",
    "class Game:\n",
    "    def __init__(self, deck, players):\n",
    "        self.deck = deck\n",
    "        self.players = players\n",
    "        self.kittycard = None\n",
    "        self.dealer = None\n",
    "    "
   ]
  },
  {
   "cell_type": "code",
   "execution_count": 82,
   "id": "6652b6df-be74-439e-8836-91542d3cadcd",
   "metadata": {},
   "outputs": [],
   "source": [
    "def setup(players):\n",
    "    deck = Deck(\"Euchre\")\n",
    "    deck.shuffle()\n",
    "\n",
    "    game = Game(deck, players)\n",
    "\n",
    "    random.shuffle(players)\n",
    "    players[0].setTeam(1)\n",
    "    players[1].setTeam(2)\n",
    "    players[2].setTeam(1)\n",
    "    players[3].setTeam(2)\n",
    "\n",
    "    for player in players:\n",
    "        player.deal(deck, 5)\n",
    "\n",
    "    game.kittycard = deck.cards.pop()\n",
    "    game.dealer = players[0]\n",
    "\n",
    "    return game"
   ]
  },
  {
   "cell_type": "code",
   "execution_count": null,
   "id": "0c1f1e88-26cc-4fdc-ba75-1ba9103f6fb6",
   "metadata": {},
   "outputs": [],
   "source": []
  },
  {
   "cell_type": "code",
   "execution_count": 83,
   "id": "f979d157-f4b1-48dd-a86d-bc4eb017f388",
   "metadata": {},
   "outputs": [
    {
     "name": "stdout",
     "output_type": "stream",
     "text": [
      "[AH, KD, AD, QD, 10H]\n",
      "[AC, QS, KC, 10S, JS]\n",
      "[9H, 9S, AS, KS, JC]\n",
      "[QC, 10D, 9D, 10C, 9C]\n",
      "JH\n",
      "<__main__.Player object at 0x0000029322155AC0>\n"
     ]
    }
   ],
   "source": [
    "Sam = Player(name=\"Sam\")\n",
    "Ben = Player(name=\"Ben\")\n",
    "Joe = Player(name=\"Joe\")\n",
    "Theresa = Player(name=\"Theresa\")\n",
    "\n",
    "game = setup([Sam, Ben, Joe, Theresa])\n",
    "\n",
    "for player in game.players:\n",
    "    print(player.cards)\n",
    "print(game.kittycard)\n",
    "print(game.dealer)\n",
    "    "
   ]
  },
  {
   "cell_type": "code",
   "execution_count": null,
   "id": "8834c2bf-49fa-4968-8f36-fb6ffc30a466",
   "metadata": {},
   "outputs": [],
   "source": []
  }
 ],
 "metadata": {
  "kernelspec": {
   "display_name": "base",
   "language": "python",
   "name": "python3"
  },
  "language_info": {
   "codemirror_mode": {
    "name": "ipython",
    "version": 3
   },
   "file_extension": ".py",
   "mimetype": "text/x-python",
   "name": "python",
   "nbconvert_exporter": "python",
   "pygments_lexer": "ipython3",
   "version": "3.9.13"
  },
  "vscode": {
   "interpreter": {
    "hash": "9d8a2aa56706f0475aa983bd88b54765f20e6e6d70a842875d22122789babd85"
   }
  }
 },
 "nbformat": 4,
 "nbformat_minor": 5
}
