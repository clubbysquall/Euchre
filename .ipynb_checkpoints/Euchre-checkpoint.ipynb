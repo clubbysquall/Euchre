{
 "cells": [
  {
   "cell_type": "code",
   "execution_count": 9,
   "id": "6fa21a80-3a5b-4071-85d8-3a5129428d78",
   "metadata": {},
   "outputs": [],
   "source": [
    "import numpy as np"
   ]
  },
  {
   "cell_type": "code",
   "execution_count": 15,
   "id": "a2755854-8bc2-4893-87e3-8e5766179035",
   "metadata": {},
   "outputs": [],
   "source": [
    "class Card:\n",
    "    def __init__(self, num, suit):\n",
    "        self.num = num\n",
    "        self.suit = suit\n",
    "        cardname = self.num\n",
    "        if self.num == 1:\n",
    "            cardname = \"Ace\"\n",
    "        elif self.num>10:\n",
    "            if self.num == 11:\n",
    "                cardname = \"Jack\"\n",
    "            elif self.num == 12:\n",
    "                cardname = \"Queen\"\n",
    "            elif self.num == 13:\n",
    "                cardname = \"King\"\n",
    "            elif self.num == 14:\n",
    "                cardname = \"Ace\"\n",
    "            else:\n",
    "                cardname = \"Joker\"\n",
    "        self.cardname = str(cardname)\n",
    "    \n",
    "    def __str__(self):\n",
    "        return str(self.cardname) +  \" of \" + str(self.suit) + \"s\""
   ]
  },
  {
   "cell_type": "code",
   "execution_count": 16,
   "id": "637a052b-3a9c-4f8b-ad61-e192a93a7299",
   "metadata": {},
   "outputs": [],
   "source": [
    "# How to Create a cardb\n",
    "#S4 = Card(14, \"Spade\")"
   ]
  },
  {
   "cell_type": "code",
   "execution_count": 17,
   "id": "7e65b5b5-d7b6-45b7-8eb9-22bf3a591612",
   "metadata": {},
   "outputs": [],
   "source": [
    "def createdeck():\n",
    "    deck = []\n",
    "    for suit in [\"Spade\", \"Club\", \"Diamond\", \"Heart\"]:\n",
    "        for num in range(6):\n",
    "            card = Card(num+9, suit)\n",
    "            deck.append(card)\n",
    "    return deck"
   ]
  },
  {
   "cell_type": "code",
   "execution_count": null,
   "id": "b5e14bde-aa9b-4fb3-841f-c55471215d6d",
   "metadata": {},
   "outputs": [],
   "source": []
  },
  {
   "cell_type": "code",
   "execution_count": 18,
   "id": "113d5bf5-7a8b-41d8-a7e3-90d6906e1f96",
   "metadata": {},
   "outputs": [],
   "source": [
    "deck = createdeck()\n",
    "np.random.shuffle(deck)"
   ]
  },
  {
   "cell_type": "raw",
   "id": "d18c1296-8126-484d-a8ba-3d8700fe40fe",
   "metadata": {},
   "source": [
    "for card in deck:\n",
    "    print(card)\n",
    "print(deck)"
   ]
  },
  {
   "cell_type": "code",
   "execution_count": null,
   "id": "6652b6df-be74-439e-8836-91542d3cadcd",
   "metadata": {},
   "outputs": [],
   "source": []
  }
 ],
 "metadata": {
  "kernelspec": {
   "display_name": "Python 3 (ipykernel)",
   "language": "python",
   "name": "python3"
  },
  "language_info": {
   "codemirror_mode": {
    "name": "ipython",
    "version": 3
   },
   "file_extension": ".py",
   "mimetype": "text/x-python",
   "name": "python",
   "nbconvert_exporter": "python",
   "pygments_lexer": "ipython3",
   "version": "3.9.13"
  }
 },
 "nbformat": 4,
 "nbformat_minor": 5
}
